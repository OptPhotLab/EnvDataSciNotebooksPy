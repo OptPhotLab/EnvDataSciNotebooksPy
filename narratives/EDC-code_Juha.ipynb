{
 "cells": [
  {
   "cell_type": "markdown",
   "metadata": {},
   "source": [
    "Created on Mon Oct  2 11:07:33 2017\n",
    "\n",
    "@author: jkarhu"
   ]
  },
  {
   "cell_type": "code",
   "execution_count": null,
   "metadata": {
    "collapsed": false
   },
   "outputs": [],
   "source": [
    "#Comparison of clear sky PV output in March when snow and no snow on the ground\n",
    "\n",
    "import pandas as pd"
   ]
  },
  {
   "cell_type": "markdown",
   "metadata": {},
   "source": [
    "opens the csv-data file"
   ]
  },
  {
   "cell_type": "code",
   "execution_count": null,
   "metadata": {
    "collapsed": false
   },
   "outputs": [],
   "source": [
    "filetoread='ClearSkyMatchesWithVisualCheckPori2012-2017wpv60.csv'"
   ]
  },
  {
   "cell_type": "markdown",
   "metadata": {},
   "source": [
    "reads the csv-data file in to a Pandas dataframe"
   ]
  },
  {
   "cell_type": "code",
   "execution_count": null,
   "metadata": {
    "collapsed": false
   },
   "outputs": [],
   "source": [
    "dfcasedat3 = pd.read_csv(filetoread)                                    "
   ]
  },
  {
   "cell_type": "markdown",
   "metadata": {},
   "source": [
    "only cases with at least some pv-production included\n",
    "only cases with at least some pv-production included"
   ]
  },
  {
   "cell_type": "code",
   "execution_count": null,
   "metadata": {
    "collapsed": false
   },
   "outputs": [],
   "source": [
    "dfcasedat3 = dfcasedat3.loc[dfcasedat3['pvL'] > 0]                   \n",
    "dfcasedat3 = dfcasedat3.loc[dfcasedat3['pvE'] > 0]                              "
   ]
  },
  {
   "cell_type": "markdown",
   "metadata": {},
   "source": [
    "first dealing with matches where there is NO snow in earlier year/case and SOME snow in later year/case\n",
    "\n",
    "selects a subdataframe including those matches where no-snow in earlier cases\n",
    "selects a sub-subdataframe including only those  matches where in later cases SOME snow"
   ]
  },
  {
   "cell_type": "code",
   "execution_count": null,
   "metadata": {
    "collapsed": false
   },
   "outputs": [],
   "source": [
    "noSnowE = dfcasedat3.loc[dfcasedat3['ESNDe'] <= 0.0]\n",
    "noSnowEyesSnowL = noSnowE.loc[noSnowE['LSNDe'] > 0.0]"
   ]
  },
  {
   "cell_type": "markdown",
   "metadata": {},
   "source": [
    "going through all the matches (rows)\n",
    "\n",
    "creates new \"empty\" column for pv difference betveen cases within one match"
   ]
  },
  {
   "cell_type": "code",
   "execution_count": null,
   "metadata": {
    "collapsed": false
   },
   "outputs": [],
   "source": [
    "noSnowEyesSnowL['dpv'] = None\n",
    "noSnowEyesSnowL['dpv%'] = None #creates new \"empty\" column for %-difference of the previous\n",
    "\n",
    "# just checking that there are matches in this category\n",
    "if len(noSnowEyesSnowL) > 0:                                            \n",
    "    for i in range(len(noSnowEyesSnowL)):                              \n",
    "        if noSnowEyesSnowL.iloc[i]['pvE'] != noSnowEyesSnowL.iloc[i]['pvL']\\\n",
    "        and noSnowEyesSnowL.iloc[i]['pvE'] != None and noSnowEyesSnowL.iloc[i]\\\n",
    "        ['pvL'] != None:                                                        #avoids situations where you end up dividing by zero in the next phase #checks whether the pv-data is ok\n",
    "            noSnowEyesSnowL.iloc[i,25] = (noSnowEyesSnowL.iloc[i,24] -\\\n",
    "                                noSnowEyesSnowL.iloc[i,23])                     #calculates the difference in pv-power in both cases within each match #and saves the value in dedicated variable\n",
    "            noSnowEyesSnowL.iloc[i,26] = ((noSnowEyesSnowL.iloc[i,25])/\\\n",
    "                                (noSnowEyesSnowL.iloc[i,23]))*100               #calculates the percentage difference of the previous and saves the value in dedicated variable\n",
    "        elif noSnowEyesSnowL.iloc[i]['pvE'] == None or noSnowEyesSnowL.iloc[i]\\\n",
    "        ['pvL'] == None:                                                        #if the pv-data of either cae is not good....\n",
    "                noSnowEyesSnowL.iloc[i,25] = None                               #....save Nones for dpv....\n",
    "                noSnowEyesSnowL.iloc[i,26] = None                               #.....and dpv%\n",
    "        else:                                                                   #as the pv-power of both cases in the match are the same\n",
    "            noSnowEyesSnowL.iloc[i,25] = 0.0                                    #....save zeros for dpv....\n",
    "            noSnowEyesSnowL.iloc[i,26] = 0.0                                    #.....and dpv%\n",
    "else:                                                                           #as there are no matches in this category, just save Nones for....\n",
    "    noSnowEyesSnowL.iloc[0,25] = None                                           #....well...somewhere in the empty sub-subdataframe \n",
    "    noSnowEyesSnowL.iloc[0,26] = None                                           #....well...somewhere in the empty sub-subdataframe "
   ]
  },
  {
   "cell_type": "markdown",
   "metadata": {},
   "source": [
    "Printing out some basic statistics for this category"
   ]
  },
  {
   "cell_type": "code",
   "execution_count": null,
   "metadata": {
    "collapsed": false
   },
   "outputs": [],
   "source": [
    "print('noSnowEarlier - yesSnowLater')\n",
    "print('N:              ',len(noSnowEyesSnowL))\n",
    "print( 'mean diff in %: ',noSnowEyesSnowL['dpv%'].mean())\n",
    "print( 'std:            ', noSnowEyesSnowL['dpv'].std())\n",
    "print( 'max diff in %:  ',noSnowEyesSnowL['dpv%'].max())\n",
    "print( 'min diff in %:  ', noSnowEyesSnowL['dpv%'].min())"
   ]
  },
  {
   "cell_type": "markdown",
   "metadata": {},
   "source": [
    "then doing the same stuff as above for the next category:  matches where there is some snow in earlier year/case and no snow in later year/case"
   ]
  },
  {
   "cell_type": "code",
   "execution_count": null,
   "metadata": {
    "collapsed": false
   },
   "outputs": [],
   "source": [
    "noSnowL = dfcasedat3.loc[dfcasedat3['LSNDe'] <= 0.0]\n",
    "noSnowLyesSnowE = noSnowL.loc[noSnowL['ESNDe'] > 0.0]\n",
    "\n",
    "noSnowLyesSnowE['dpv'] = None\n",
    "noSnowLyesSnowE['dpv%'] = None\n",
    "for i in range(len(noSnowLyesSnowE)):\n",
    "    if noSnowLyesSnowE.iloc[i]['pvE'] != noSnowLyesSnowE.iloc[i]['pvL'] and noSnowLyesSnowE.iloc[i]['pvE'] != None and noSnowLyesSnowE.iloc[i]['pvL'] != None:\n",
    "        noSnowLyesSnowE.iloc[i,25] = (noSnowLyesSnowE.iloc[i]['pvE'] - noSnowLyesSnowE.iloc[i]['pvL'])\n",
    "        noSnowLyesSnowE.iloc[i,26] = ((noSnowLyesSnowE.iloc[i,25])/(noSnowLyesSnowE.iloc[i]['pvL']))*100\n",
    "    elif noSnowLyesSnowE.iloc[i]['pvE'] == None or noSnowLyesSnowE.iloc[i]['pvL'] == None:\n",
    "                noSnowLyesSnowE.iloc[0,25] = None\n",
    "                noSnowLyesSnowE.iloc[0,26] = None\n",
    "    else:\n",
    "        noSnowLyesSnowE.iloc[i,25] = 0.0\n",
    "        noSnowLyesSnowE.iloc[i,26] = 0.0"
   ]
  },
  {
   "cell_type": "markdown",
   "metadata": {},
   "source": [
    "Printing out some basic statistics for this category"
   ]
  },
  {
   "cell_type": "code",
   "execution_count": null,
   "metadata": {
    "collapsed": false
   },
   "outputs": [],
   "source": [
    "print( 'noSnowLater - yesSnowEarlier')\n",
    "print( 'N:              ',len(noSnowLyesSnowE))\n",
    "print( 'mean diff in %: ',noSnowLyesSnowE['dpv%'].mean())\n",
    "print( 'std:            ', noSnowLyesSnowE['dpv'].std())\n",
    "print( 'max diff in %:  ',noSnowLyesSnowE['dpv%'].max())\n",
    "print( 'min diff in %:  ',noSnowLyesSnowE['dpv%'].min())"
   ]
  },
  {
   "cell_type": "markdown",
   "metadata": {},
   "source": [
    "combine both above sub-subdataframes for matches where there is just diffetnt snow conditions \n",
    "dfDifCon = pd.concat([noSnowLyesSnowE,noSnowEyesSnowL])"
   ]
  },
  {
   "cell_type": "code",
   "execution_count": null,
   "metadata": {
    "collapsed": false
   },
   "outputs": [],
   "source": [
    "#Printing out the same basic statistics for this joint category of different snow conditions\n",
    "print( 'Different snow conditions')\n",
    "print( 'N:                      ',len(dfDifCon))\n",
    "print( 'mean diff in %:         ',dfDifCon['dpv%'].mean())\n",
    "print( 'std of dpv%:            ',dfDifCon['dpv%'].std())\n",
    "print( 'std of dpv:             ',dfDifCon['dpv'].std())\n",
    "print( 'max diff in %:          ',dfDifCon['dpv%'].max())\n",
    "print( 'min diff in %:          ',dfDifCon['dpv%'].min())\n",
    "\n",
    "try:\n",
    "    dfDifCon.hist(column='dpv')\n",
    "except ValueError:\n",
    "    pass"
   ]
  },
  {
   "cell_type": "markdown",
   "metadata": {},
   "source": [
    "Now repeat the above comparison for the \"same\" snow conditions in the surroundings"
   ]
  },
  {
   "cell_type": "code",
   "execution_count": null,
   "metadata": {
    "collapsed": false
   },
   "outputs": [],
   "source": [
    "noSnowE = dfcasedat3.loc[dfcasedat3['ESNDe'] <= 0.0]\n",
    "noSnowEnoSnowL = noSnowE.loc[noSnowE['LSNDe'] <= 0.0]\n",
    "yesSnowL = dfcasedat3.loc[dfcasedat3['LSNDe'] > 0.0]\n",
    "yesSnowLyesSnowE = yesSnowL.loc[yesSnowL['ESNDe'] > 0.0]\n",
    "dfSimCon = pd.concat([noSnowEnoSnowL,yesSnowLyesSnowE])\n",
    "\n",
    "dfSimCon['dpv'] = None\n",
    "dfSimCon['dpv%'] = None\n",
    "for i in range(len(dfSimCon)):\n",
    "    if dfSimCon.iloc[i]['pvE'] != None and dfSimCon.iloc[i]['pvL'] != None:\n",
    "        dfSimCon.iloc[i,25] = (dfSimCon.iloc[i]['pvE'] - dfSimCon.iloc[i]['pvL'])\n",
    "        dfSimCon.iloc[i,26] = (float(dfSimCon.iloc[i]['dpv'])/float(dfSimCon.iloc[i]['pvL']))*100\n",
    "    else:\n",
    "         dfSimCon.iloc[0,25] = None\n",
    "         dfSimCon.iloc[0,26] = None\n",
    "\n",
    "print( 'Same snow conditions with \"correct\" version')\n",
    "print( 'N:              ',len(dfSimCon))\n",
    "print( 'mean diff in %: ',dfSimCon['dpv%'].mean())\n",
    "print( 'std of dpv%:            ',dfSimCon['dpv%'].std())\n",
    "print( 'std of dpv:             ',dfSimCon['dpv'].std())\n",
    "print( 'max diff in %:  ',dfSimCon['dpv%'].max())\n",
    "print( 'min diff in %:  ',dfSimCon['dpv%'].min())\n",
    "\n",
    "\n",
    "try:\n",
    "    dfSimCon.hist(column='dpv')\n",
    "except ValueError:\n",
    "    pass"
   ]
  }
 ],
 "metadata": {},
 "nbformat": 4,
 "nbformat_minor": 1
}
